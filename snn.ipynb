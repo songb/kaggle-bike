{
 "cells": [
  {
   "cell_type": "code",
   "execution_count": null,
   "metadata": {},
   "outputs": [],
   "source": [
    "import pylab\n",
    "import calendar\n",
    "import numpy as np\n",
    "import pandas as pd\n",
    "import tensorflow as tf\n",
    "from datetime import datetime"
   ]
  },
  {
   "cell_type": "code",
   "execution_count": null,
   "metadata": {},
   "outputs": [],
   "source": [
    "raw_training_data = pd.read_csv(\"input/train.csv\")\n",
    "test_data = pd.read_csv(\"input/test.csv\")"
   ]
  },
  {
   "cell_type": "code",
   "execution_count": null,
   "metadata": {},
   "outputs": [],
   "source": [
    "def cleanData(data):\n",
    "    data['date'] = data.datetime.apply(lambda x: x.split()[0])\n",
    "    data['hour'] = data.datetime.apply(lambda x: x.split()[1].split(':')[0]).astype('int')\n",
    "    data['weekday'] = data.date.apply(lambda dateString: datetime.strptime(dateString, '%Y-%m-%d').weekday())\n",
    "    data['month'] = data.date.apply(lambda dateString: datetime.strptime(dateString, '%Y-%m-%d').month)\n",
    "    data = data.sample(frac=1)\n",
    "    test_index = int(data.shape[0] * 0.8)\n",
    "    training_label = data['count'][:test_index]\n",
    "    validation_label = data['count'][test_index:]\n",
    "    data = data.drop(['casual', 'datetime', 'date', 'registered', 'count', 'atemp'], axis=1)\n",
    "    return data[:test_index], training_label, data[test_index:], validation_label"
   ]
  },
  {
   "cell_type": "code",
   "execution_count": null,
   "metadata": {},
   "outputs": [],
   "source": [
    "training_data, training_label, validate_data, validation_label = cleanData(raw_training_data)"
   ]
  },
  {
   "cell_type": "code",
   "execution_count": null,
   "metadata": {},
   "outputs": [],
   "source": [
    "def build_mode():\n",
    "    return tf.keras.models.Sequential(layers=[\n",
    "        tf.keras.layers.Dense(units=10, activation='relu', input_shape=(10,)),\n",
    "        tf.keras.layers.Dense(units=1, activation='linear')\n",
    "    ])\n",
    "\n",
    "model = build_mode()\n",
    "\n",
    "model.compile(optimizer=tf.keras.optimizers.Adam(lr=0.01), loss='mse', metrics=['accuracy'])\n",
    "model.summary()\n"
   ]
  },
  {
   "cell_type": "code",
   "execution_count": null,
   "metadata": {},
   "outputs": [],
   "source": [
    "history = model.fit(training_data, training_label, epochs=20, batch_size=128)"
   ]
  }
 ],
 "metadata": {},
 "nbformat": 4,
 "nbformat_minor": 0
}
